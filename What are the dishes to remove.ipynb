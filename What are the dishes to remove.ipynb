{
 "cells": [
  {
   "cell_type": "markdown",
   "metadata": {},
   "source": [
    "### Dishes to remove"
   ]
  },
  {
   "cell_type": "markdown",
   "metadata": {},
   "source": [
    "### The dishes which have the lowest frequency should be removed as they are the dishes which are least liked by the people and they therefore they are ordered less frequenctly. So just including them in the menu is not a good option as it is not contributing much to the earnings of Mr Goli So its better to remove them or either to improve them."
   ]
  },
  {
   "cell_type": "code",
   "execution_count": 2,
   "metadata": {},
   "outputs": [],
   "source": [
    "import pandas as pd\n",
    "import numpy as np\n",
    "import matplotlib.pyplot as plt\n",
    "%matplotlib inline"
   ]
  },
  {
   "cell_type": "code",
   "execution_count": 3,
   "metadata": {},
   "outputs": [
    {
     "data": {
      "text/plain": [
       "Hyderabadi Chicken Fry Piece Biryani                                       1329\n",
       "Tandoori Roti                                                              1262\n",
       "Chicken Curry                                                               958\n",
       "Butter Chicken                                                              787\n",
       "Tandoori Roti Butter                                                        716\n",
       "Hyderabadi Mutton Dum Biryani                                               584\n",
       "Tandoori Chicken                                                            521\n",
       "Egg Curry                                                                   403\n",
       "Butter nan                                                                  398\n",
       "Kadhai Chicken                                                              337\n",
       "water bottle                                                                325\n",
       "Lachchha Paratha                                                            325\n",
       "Veg Biryani                                                                 276\n",
       "Chicken Home Style                                                          265\n",
       "Cold Drink s                                                                250\n",
       "Plain Rice                                                                  248\n",
       "Tawa Roti                                                                   239\n",
       "Jeera Rice                                                                  236\n",
       "Chicken Handi                                                               233\n",
       "Fish Tikka                                                                  226\n",
       "Chicken Tikka                                                               211\n",
       "Mutton Rogan Josh                                                           196\n",
       "Garlic Nan                                                                  192\n",
       "Chicken Garlic Tikka                                                        183\n",
       "Cold Drink                                                                  180\n",
       "Chicken Kolhapuri                                                           175\n",
       "Mutton Bati                                                                 172\n",
       "Egg Biryani                                                                 153\n",
       "Paneer Butter Masala                                                        149\n",
       "Chicken Tikka Masala                                                        146\n",
       "                                                                           ... \n",
       "muttor paneer                                                                 3\n",
       "Paneer Tikka Full                                                             3\n",
       "Veg Monchow                                                                   3\n",
       "Hyderabadi Chicken Dum Biryani                                                2\n",
       "Shimla cheese Paneer Half                                                     2\n",
       "Mutton Home Style [2 piece] with 3 Whole Wheat Tandoori Roti [Serves 1]       2\n",
       "Bread Butter Toast                                                            2\n",
       "Paneer Lababdaar                                                              2\n",
       "chicken masala full                                                           2\n",
       "Peanut chaat                                                                  2\n",
       "Sev Tamatar with 3 Whole Wheat Tandoori Roti [Serves 1]                       2\n",
       "Chicken Hot n Sour                                                            2\n",
       "egg masala                                                                    2\n",
       "Non Veg Royal Platter                                                         2\n",
       "Keema Kaleji                                                                  2\n",
       "Vegetable Mayo cheese                                                         2\n",
       "Chicken Rara [8 Piece]                                                        1\n",
       "Egg Boiled Fry                                                                1\n",
       "Veg Roll & Biryani Combo                                                      1\n",
       "Paneer Bhurji                                                                 1\n",
       "Masala Mayo Cheese Half                                                       1\n",
       "Veg Hot n Sour                                                                1\n",
       "Choclate Shake                                                                1\n",
       "Singapuri Noodles                                                             1\n",
       "Veg Chilly Garlic Noodles                                                     1\n",
       "Vegetable cheese                                                              1\n",
       "Mushroom Burger                                                               1\n",
       "Green Tea                                                                     1\n",
       "Veg Lemon Coriander                                                           1\n",
       "Vegetable Cheese Half                                                         1\n",
       "Name: Dish Name, Length: 207, dtype: int64"
      ]
     },
     "execution_count": 3,
     "metadata": {},
     "output_type": "execute_result"
    }
   ],
   "source": [
    "ds2 = pd.read_csv('Customer Order Item Details.csv')\n",
    "ds2['Dish Name'].value_counts()"
   ]
  },
  {
   "cell_type": "markdown",
   "metadata": {},
   "source": [
    "### The dishes with the lowest frequency are  Chicken Rara [8 Piece]                                                        1\n",
    "Egg Boiled Fry,                                                                1\n",
    "Veg Roll & Biryani Combo,                                                     1\n",
    "Paneer Bhurji,                                                                 1\n",
    "Masala Mayo Cheese Half,                                                       1\n",
    "Veg Hot n Sour,                                                                1\n",
    "Choclate Shake,                                                                1\n",
    "Singapuri Noodles,                                                             1\n",
    "Veg Chilly Garlic Noodles,                                                     1\n",
    "Vegetable cheese,                                                              1\n",
    "Mushroom Burger,                                                               1\n",
    "Green Tea,                                                                     1\n",
    "Veg Lemon Coriander,                                                           1\n",
    "Vegetable Cheese Half                             "
   ]
  },
  {
   "cell_type": "code",
   "execution_count": null,
   "metadata": {},
   "outputs": [],
   "source": []
  }
 ],
 "metadata": {
  "kernelspec": {
   "display_name": "Python 3",
   "language": "python",
   "name": "python3"
  },
  "language_info": {
   "codemirror_mode": {
    "name": "ipython",
    "version": 3
   },
   "file_extension": ".py",
   "mimetype": "text/x-python",
   "name": "python",
   "nbconvert_exporter": "python",
   "pygments_lexer": "ipython3",
   "version": "3.5.2"
  }
 },
 "nbformat": 4,
 "nbformat_minor": 2
}
